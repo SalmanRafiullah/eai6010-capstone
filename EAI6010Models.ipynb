{
  "nbformat": 4,
  "nbformat_minor": 0,
  "metadata": {
    "colab": {
      "name": "EAI6010Project.ipynb",
      "provenance": [],
      "collapsed_sections": [],
      "authorship_tag": "ABX9TyNdweoODUai6Nqvm7vODXlY",
      "include_colab_link": true
    },
    "kernelspec": {
      "name": "python3",
      "display_name": "Python 3"
    }
  },
  "cells": [
    {
      "cell_type": "markdown",
      "metadata": {
        "id": "view-in-github",
        "colab_type": "text"
      },
      "source": [
        "<a href=\"https://colab.research.google.com/github/SalmanRafiullah/eai6010-capstone/blob/master/EAI6010Models.ipynb\" target=\"_parent\"><img src=\"https://colab.research.google.com/assets/colab-badge.svg\" alt=\"Open In Colab\"/></a>"
      ]
    },
    {
      "cell_type": "markdown",
      "metadata": {
        "id": "yiOkU3c4UY91",
        "colab_type": "text"
      },
      "source": [
        "# Data Processing"
      ]
    },
    {
      "cell_type": "markdown",
      "metadata": {
        "id": "BkKHQG16Uk3a",
        "colab_type": "text"
      },
      "source": [
        "## Import data"
      ]
    },
    {
      "cell_type": "code",
      "metadata": {
        "id": "Uw9FvqUDUgps",
        "colab_type": "code",
        "outputId": "357169bb-12d1-4bdb-da75-f7ce44073acd",
        "colab": {
          "base_uri": "https://localhost:8080/",
          "height": 51
        }
      },
      "source": [
        "#Import necessary libraries\n",
        "from google.colab import drive, files\n",
        "import os\n",
        "import pandas as pd\n",
        "import numpy as np\n",
        "import seaborn as sns\n",
        "from sklearn.linear_model import LinearRegression, Lasso, LogisticRegression\n",
        "from sklearn.model_selection import train_test_split\n",
        "from sklearn.ensemble import RandomForestRegressor, AdaBoostRegressor, AdaBoostClassifier\n",
        "from sklearn.svm import LinearSVC\n",
        "from sklearn.neural_network import MLPClassifier\n",
        "from sklearn.metrics import r2_score"
      ],
      "execution_count": 0,
      "outputs": [
        {
          "output_type": "stream",
          "text": [
            "/usr/local/lib/python3.6/dist-packages/statsmodels/tools/_testing.py:19: FutureWarning: pandas.util.testing is deprecated. Use the functions in the public API at pandas.testing instead.\n",
            "  import pandas.util.testing as tm\n"
          ],
          "name": "stderr"
        }
      ]
    },
    {
      "cell_type": "code",
      "metadata": {
        "id": "_guayaAKVqtk",
        "colab_type": "code",
        "outputId": "1eb57ed5-4f99-4f92-90c3-0db3da589386",
        "colab": {
          "base_uri": "https://localhost:8080/",
          "height": 34
        }
      },
      "source": [
        "#Mount google drive\n",
        "drive.mount('/content/drive')\n",
        "dir = '/content/drive/My Drive/NEU/EAI6010/EAI6010Data.xlsx'\n",
        "#Load data as DataFrame\n",
        "MyData = pd.read_excel(dir)"
      ],
      "execution_count": 0,
      "outputs": [
        {
          "output_type": "stream",
          "text": [
            "Drive already mounted at /content/drive; to attempt to forcibly remount, call drive.mount(\"/content/drive\", force_remount=True).\n"
          ],
          "name": "stdout"
        }
      ]
    },
    {
      "cell_type": "markdown",
      "metadata": {
        "id": "zqq-2w65j8V9",
        "colab_type": "text"
      },
      "source": [
        "## Create derived variables"
      ]
    },
    {
      "cell_type": "code",
      "metadata": {
        "id": "cfKrnuttWlOA",
        "colab_type": "code",
        "outputId": "371b2e9b-c193-4d31-bc66-f6e7cba596c4",
        "colab": {
          "base_uri": "https://localhost:8080/",
          "height": 34
        }
      },
      "source": [
        "#Check shape of original data\n",
        "MyData.shape"
      ],
      "execution_count": 0,
      "outputs": [
        {
          "output_type": "execute_result",
          "data": {
            "text/plain": [
              "(703, 18)"
            ]
          },
          "metadata": {
            "tags": []
          },
          "execution_count": 3
        }
      ]
    },
    {
      "cell_type": "code",
      "metadata": {
        "id": "VztOY71dWy0_",
        "colab_type": "code",
        "colab": {}
      },
      "source": [
        "#Create Public Transport variable that sums bus stops and subway stops\n",
        "MyData['PublicTransport'] = MyData['PublicTransport_BusStops'] + MyData['PublicTransport_OtherStops']\n",
        "#Create a weighter Public Transport variable that sums the stops proportionately 34.9:65.1\n",
        "MyData['PublicTransport_W'] = MyData['PublicTransport_BusStops'] * .349 + MyData['PublicTransport_OtherStops'] * .651\n",
        "#Calculate absolute numbers of TWU workers\n",
        "MyData['TWU_Workers'] = np.round(MyData['Transportation, Warehousing, Utilities Workers Percentage'] * MyData['Population'])\n",
        "#Calculate absolute numbers of Retail workers\n",
        "MyData['R_Workers'] = np.round(MyData['Retail Trade Workers Percentage'] * MyData['Population'])\n",
        "#Calculate absolute numbers of people in units with 10 or more houses\n",
        "MyData['Dense_House'] = np.round(MyData['10 or More Units House Percentage'] * MyData['Population'])\n",
        "#Calculate absolute numbers of population under poverty\n",
        "MyData['Pop_Poverty'] = np.round(MyData['Population in Poverty Percentage'] * MyData['Population'])"
      ],
      "execution_count": 0,
      "outputs": []
    },
    {
      "cell_type": "code",
      "metadata": {
        "id": "M-aYM_8Qa7Cq",
        "colab_type": "code",
        "outputId": "7e734403-a1e8-4e7e-f0d7-671d6dabe668",
        "colab": {
          "base_uri": "https://localhost:8080/",
          "height": 34
        }
      },
      "source": [
        "#Check shape of data after adding variables\n",
        "MyData.shape"
      ],
      "execution_count": 0,
      "outputs": [
        {
          "output_type": "execute_result",
          "data": {
            "text/plain": [
              "(703, 24)"
            ]
          },
          "metadata": {
            "tags": []
          },
          "execution_count": 5
        }
      ]
    },
    {
      "cell_type": "markdown",
      "metadata": {
        "id": "73Z2CdNhxkpV",
        "colab_type": "text"
      },
      "source": [
        "## Filter Data"
      ]
    },
    {
      "cell_type": "code",
      "metadata": {
        "id": "1bdXBLLck68T",
        "colab_type": "code",
        "colab": {}
      },
      "source": [
        "#Filter data to exclude areas where the population is 0 and there is no public transport\n",
        "MyData = MyData[(pd.notnull(MyData['PublicTransport'])) & (MyData['Population Density'] > 0)]"
      ],
      "execution_count": 0,
      "outputs": []
    },
    {
      "cell_type": "code",
      "metadata": {
        "id": "rTbc9iONlUxQ",
        "colab_type": "code",
        "outputId": "7edb9dba-700b-45b7-ed7b-8873463dbc7d",
        "colab": {
          "base_uri": "https://localhost:8080/",
          "height": 34
        }
      },
      "source": [
        "#Check number of rows deleted\n",
        "MyData.shape"
      ],
      "execution_count": 0,
      "outputs": [
        {
          "output_type": "execute_result",
          "data": {
            "text/plain": [
              "(536, 24)"
            ]
          },
          "metadata": {
            "tags": []
          },
          "execution_count": 7
        }
      ]
    },
    {
      "cell_type": "code",
      "metadata": {
        "id": "Ldq6lKRjw0Wg",
        "colab_type": "code",
        "outputId": "96e2890f-f193-449b-d9de-40b6eed7d703",
        "colab": {
          "base_uri": "https://localhost:8080/",
          "height": 524
        }
      },
      "source": [
        "#View data to check integrity\n",
        "MyData"
      ],
      "execution_count": 0,
      "outputs": [
        {
          "output_type": "execute_result",
          "data": {
            "text/html": [
              "<div>\n",
              "<style scoped>\n",
              "    .dataframe tbody tr th:only-of-type {\n",
              "        vertical-align: middle;\n",
              "    }\n",
              "\n",
              "    .dataframe tbody tr th {\n",
              "        vertical-align: top;\n",
              "    }\n",
              "\n",
              "    .dataframe thead th {\n",
              "        text-align: right;\n",
              "    }\n",
              "</style>\n",
              "<table border=\"1\" class=\"dataframe\">\n",
              "  <thead>\n",
              "    <tr style=\"text-align: right;\">\n",
              "      <th></th>\n",
              "      <th>ZipCode</th>\n",
              "      <th>City</th>\n",
              "      <th>OldCity</th>\n",
              "      <th>County</th>\n",
              "      <th>PublicTransport_BusStops</th>\n",
              "      <th>PublicTransport_OtherStops</th>\n",
              "      <th>CommunityPlaces</th>\n",
              "      <th>BikeUsage</th>\n",
              "      <th>HealthIndex</th>\n",
              "      <th>Population</th>\n",
              "      <th>Population Density</th>\n",
              "      <th>Transportation, Warehousing, Utilities Workers Percentage</th>\n",
              "      <th>Retail Trade Workers Percentage</th>\n",
              "      <th>Population in Poverty Percentage</th>\n",
              "      <th>10 or More Units House Percentage</th>\n",
              "      <th>StateParks</th>\n",
              "      <th>CovidCount</th>\n",
              "      <th>CovidRate</th>\n",
              "      <th>PublicTransport</th>\n",
              "      <th>PublicTransport_W</th>\n",
              "      <th>TWU_Workers</th>\n",
              "      <th>R_Workers</th>\n",
              "      <th>Dense_House</th>\n",
              "      <th>Pop_Poverty</th>\n",
              "    </tr>\n",
              "  </thead>\n",
              "  <tbody>\n",
              "    <tr>\n",
              "      <th>0</th>\n",
              "      <td>1001</td>\n",
              "      <td>Agawam</td>\n",
              "      <td>Agawam</td>\n",
              "      <td>Hampden</td>\n",
              "      <td>0.0</td>\n",
              "      <td>0.0</td>\n",
              "      <td>7</td>\n",
              "      <td>0.0</td>\n",
              "      <td>14</td>\n",
              "      <td>17141</td>\n",
              "      <td>1393.2</td>\n",
              "      <td>0.063</td>\n",
              "      <td>0.147</td>\n",
              "      <td>0.084</td>\n",
              "      <td>0.144</td>\n",
              "      <td>0.0</td>\n",
              "      <td>333</td>\n",
              "      <td>1164.20</td>\n",
              "      <td>0.0</td>\n",
              "      <td>0.0</td>\n",
              "      <td>1080.0</td>\n",
              "      <td>2520.0</td>\n",
              "      <td>2468.0</td>\n",
              "      <td>1440.0</td>\n",
              "    </tr>\n",
              "    <tr>\n",
              "      <th>1</th>\n",
              "      <td>1002</td>\n",
              "      <td>Amherst</td>\n",
              "      <td>Amherst</td>\n",
              "      <td>Hampshire</td>\n",
              "      <td>0.0</td>\n",
              "      <td>0.0</td>\n",
              "      <td>10</td>\n",
              "      <td>0.0</td>\n",
              "      <td>5</td>\n",
              "      <td>29844</td>\n",
              "      <td>526.4</td>\n",
              "      <td>0.015</td>\n",
              "      <td>0.093</td>\n",
              "      <td>0.320</td>\n",
              "      <td>0.233</td>\n",
              "      <td>1.0</td>\n",
              "      <td>60</td>\n",
              "      <td>148.16</td>\n",
              "      <td>0.0</td>\n",
              "      <td>0.0</td>\n",
              "      <td>448.0</td>\n",
              "      <td>2775.0</td>\n",
              "      <td>6954.0</td>\n",
              "      <td>9550.0</td>\n",
              "    </tr>\n",
              "    <tr>\n",
              "      <th>2</th>\n",
              "      <td>1003</td>\n",
              "      <td>Amherst</td>\n",
              "      <td>Amherst</td>\n",
              "      <td>Hampshire</td>\n",
              "      <td>0.0</td>\n",
              "      <td>0.0</td>\n",
              "      <td>1</td>\n",
              "      <td>0.0</td>\n",
              "      <td>5</td>\n",
              "      <td>11062</td>\n",
              "      <td>15443.6</td>\n",
              "      <td>0.000</td>\n",
              "      <td>0.108</td>\n",
              "      <td>0.013</td>\n",
              "      <td>0.250</td>\n",
              "      <td>0.0</td>\n",
              "      <td>60</td>\n",
              "      <td>148.16</td>\n",
              "      <td>0.0</td>\n",
              "      <td>0.0</td>\n",
              "      <td>0.0</td>\n",
              "      <td>1195.0</td>\n",
              "      <td>2766.0</td>\n",
              "      <td>144.0</td>\n",
              "    </tr>\n",
              "    <tr>\n",
              "      <th>4</th>\n",
              "      <td>1005</td>\n",
              "      <td>Barre</td>\n",
              "      <td>Barre</td>\n",
              "      <td>Worcester</td>\n",
              "      <td>0.0</td>\n",
              "      <td>0.0</td>\n",
              "      <td>5</td>\n",
              "      <td>0.0</td>\n",
              "      <td>10</td>\n",
              "      <td>5113</td>\n",
              "      <td>114.9</td>\n",
              "      <td>0.009</td>\n",
              "      <td>0.110</td>\n",
              "      <td>0.045</td>\n",
              "      <td>0.044</td>\n",
              "      <td>0.0</td>\n",
              "      <td>42</td>\n",
              "      <td>755.70</td>\n",
              "      <td>0.0</td>\n",
              "      <td>0.0</td>\n",
              "      <td>46.0</td>\n",
              "      <td>562.0</td>\n",
              "      <td>225.0</td>\n",
              "      <td>230.0</td>\n",
              "    </tr>\n",
              "    <tr>\n",
              "      <th>5</th>\n",
              "      <td>1007</td>\n",
              "      <td>Belchertown</td>\n",
              "      <td>Belchertown</td>\n",
              "      <td>Hampshire</td>\n",
              "      <td>0.0</td>\n",
              "      <td>0.0</td>\n",
              "      <td>6</td>\n",
              "      <td>0.0</td>\n",
              "      <td>5</td>\n",
              "      <td>14774</td>\n",
              "      <td>267.0</td>\n",
              "      <td>0.049</td>\n",
              "      <td>0.122</td>\n",
              "      <td>0.078</td>\n",
              "      <td>0.058</td>\n",
              "      <td>1.0</td>\n",
              "      <td>69</td>\n",
              "      <td>433.34</td>\n",
              "      <td>0.0</td>\n",
              "      <td>0.0</td>\n",
              "      <td>724.0</td>\n",
              "      <td>1802.0</td>\n",
              "      <td>857.0</td>\n",
              "      <td>1152.0</td>\n",
              "    </tr>\n",
              "    <tr>\n",
              "      <th>...</th>\n",
              "      <td>...</td>\n",
              "      <td>...</td>\n",
              "      <td>...</td>\n",
              "      <td>...</td>\n",
              "      <td>...</td>\n",
              "      <td>...</td>\n",
              "      <td>...</td>\n",
              "      <td>...</td>\n",
              "      <td>...</td>\n",
              "      <td>...</td>\n",
              "      <td>...</td>\n",
              "      <td>...</td>\n",
              "      <td>...</td>\n",
              "      <td>...</td>\n",
              "      <td>...</td>\n",
              "      <td>...</td>\n",
              "      <td>...</td>\n",
              "      <td>...</td>\n",
              "      <td>...</td>\n",
              "      <td>...</td>\n",
              "      <td>...</td>\n",
              "      <td>...</td>\n",
              "      <td>...</td>\n",
              "      <td>...</td>\n",
              "    </tr>\n",
              "    <tr>\n",
              "      <th>695</th>\n",
              "      <td>2777</td>\n",
              "      <td>Swansea</td>\n",
              "      <td>Swansea</td>\n",
              "      <td>Bristol</td>\n",
              "      <td>0.0</td>\n",
              "      <td>0.0</td>\n",
              "      <td>4</td>\n",
              "      <td>0.0</td>\n",
              "      <td>13</td>\n",
              "      <td>15997</td>\n",
              "      <td>633.1</td>\n",
              "      <td>0.052</td>\n",
              "      <td>0.140</td>\n",
              "      <td>0.052</td>\n",
              "      <td>0.009</td>\n",
              "      <td>0.0</td>\n",
              "      <td>73</td>\n",
              "      <td>457.12</td>\n",
              "      <td>0.0</td>\n",
              "      <td>0.0</td>\n",
              "      <td>832.0</td>\n",
              "      <td>2240.0</td>\n",
              "      <td>144.0</td>\n",
              "      <td>832.0</td>\n",
              "    </tr>\n",
              "    <tr>\n",
              "      <th>696</th>\n",
              "      <td>2779</td>\n",
              "      <td>Berkley</td>\n",
              "      <td>Berkley</td>\n",
              "      <td>Bristol</td>\n",
              "      <td>0.0</td>\n",
              "      <td>0.0</td>\n",
              "      <td>6</td>\n",
              "      <td>0.0</td>\n",
              "      <td>13</td>\n",
              "      <td>6492</td>\n",
              "      <td>372.5</td>\n",
              "      <td>0.059</td>\n",
              "      <td>0.122</td>\n",
              "      <td>0.059</td>\n",
              "      <td>0.006</td>\n",
              "      <td>1.0</td>\n",
              "      <td>41</td>\n",
              "      <td>604.70</td>\n",
              "      <td>0.0</td>\n",
              "      <td>0.0</td>\n",
              "      <td>383.0</td>\n",
              "      <td>792.0</td>\n",
              "      <td>39.0</td>\n",
              "      <td>383.0</td>\n",
              "    </tr>\n",
              "    <tr>\n",
              "      <th>697</th>\n",
              "      <td>2780</td>\n",
              "      <td>Taunton</td>\n",
              "      <td>Taunton</td>\n",
              "      <td>Bristol</td>\n",
              "      <td>0.0</td>\n",
              "      <td>0.0</td>\n",
              "      <td>2</td>\n",
              "      <td>0.0</td>\n",
              "      <td>13</td>\n",
              "      <td>49456</td>\n",
              "      <td>1437.0</td>\n",
              "      <td>0.054</td>\n",
              "      <td>0.160</td>\n",
              "      <td>0.142</td>\n",
              "      <td>0.114</td>\n",
              "      <td>1.0</td>\n",
              "      <td>690</td>\n",
              "      <td>1204.60</td>\n",
              "      <td>0.0</td>\n",
              "      <td>0.0</td>\n",
              "      <td>2671.0</td>\n",
              "      <td>7913.0</td>\n",
              "      <td>5638.0</td>\n",
              "      <td>7023.0</td>\n",
              "    </tr>\n",
              "    <tr>\n",
              "      <th>699</th>\n",
              "      <td>2790</td>\n",
              "      <td>Westport</td>\n",
              "      <td>Westport</td>\n",
              "      <td>Bristol</td>\n",
              "      <td>0.0</td>\n",
              "      <td>0.0</td>\n",
              "      <td>0</td>\n",
              "      <td>0.0</td>\n",
              "      <td>13</td>\n",
              "      <td>16142</td>\n",
              "      <td>252.8</td>\n",
              "      <td>0.046</td>\n",
              "      <td>0.133</td>\n",
              "      <td>0.033</td>\n",
              "      <td>0.016</td>\n",
              "      <td>0.0</td>\n",
              "      <td>54</td>\n",
              "      <td>324.44</td>\n",
              "      <td>0.0</td>\n",
              "      <td>0.0</td>\n",
              "      <td>743.0</td>\n",
              "      <td>2147.0</td>\n",
              "      <td>258.0</td>\n",
              "      <td>533.0</td>\n",
              "    </tr>\n",
              "    <tr>\n",
              "      <th>700</th>\n",
              "      <td>2791</td>\n",
              "      <td>Westport</td>\n",
              "      <td>Westport Point</td>\n",
              "      <td>Bristol</td>\n",
              "      <td>0.0</td>\n",
              "      <td>0.0</td>\n",
              "      <td>3</td>\n",
              "      <td>0.0</td>\n",
              "      <td>13</td>\n",
              "      <td>127</td>\n",
              "      <td>120.0</td>\n",
              "      <td>0.000</td>\n",
              "      <td>0.000</td>\n",
              "      <td>0.000</td>\n",
              "      <td>0.000</td>\n",
              "      <td>1.0</td>\n",
              "      <td>54</td>\n",
              "      <td>324.44</td>\n",
              "      <td>0.0</td>\n",
              "      <td>0.0</td>\n",
              "      <td>0.0</td>\n",
              "      <td>0.0</td>\n",
              "      <td>0.0</td>\n",
              "      <td>0.0</td>\n",
              "    </tr>\n",
              "  </tbody>\n",
              "</table>\n",
              "<p>536 rows × 24 columns</p>\n",
              "</div>"
            ],
            "text/plain": [
              "     ZipCode         City         OldCity  ... R_Workers  Dense_House  Pop_Poverty\n",
              "0       1001       Agawam          Agawam  ...    2520.0       2468.0       1440.0\n",
              "1       1002      Amherst         Amherst  ...    2775.0       6954.0       9550.0\n",
              "2       1003      Amherst         Amherst  ...    1195.0       2766.0        144.0\n",
              "4       1005        Barre           Barre  ...     562.0        225.0        230.0\n",
              "5       1007  Belchertown     Belchertown  ...    1802.0        857.0       1152.0\n",
              "..       ...          ...             ...  ...       ...          ...          ...\n",
              "695     2777      Swansea         Swansea  ...    2240.0        144.0        832.0\n",
              "696     2779      Berkley         Berkley  ...     792.0         39.0        383.0\n",
              "697     2780      Taunton         Taunton  ...    7913.0       5638.0       7023.0\n",
              "699     2790     Westport        Westport  ...    2147.0        258.0        533.0\n",
              "700     2791     Westport  Westport Point  ...       0.0          0.0          0.0\n",
              "\n",
              "[536 rows x 24 columns]"
            ]
          },
          "metadata": {
            "tags": []
          },
          "execution_count": 8
        }
      ]
    },
    {
      "cell_type": "markdown",
      "metadata": {
        "id": "XaTc3xtKBUCe",
        "colab_type": "text"
      },
      "source": [
        "## Create a categorical variable for the dependent variable"
      ]
    },
    {
      "cell_type": "code",
      "metadata": {
        "id": "J4JiF7JkqSMN",
        "colab_type": "code",
        "colab": {}
      },
      "source": [
        "#Define bins for categorization in equal bins\n",
        "bins1 = np.percentile(MyData['CovidRate'],q=[0,33,66,100])\n",
        "#Define labels for bins\n",
        "labels1 = [1,2,3]\n",
        "#Create variable that stores the categories\n",
        "MyData['CovidRateCat'] = pd.cut(MyData['CovidRate'],bins=bins1,labels=labels1,include_lowest=True)"
      ],
      "execution_count": 0,
      "outputs": []
    },
    {
      "cell_type": "markdown",
      "metadata": {
        "id": "7yyHjpCt9-tc",
        "colab_type": "text"
      },
      "source": [
        "# Feature Selection"
      ]
    },
    {
      "cell_type": "code",
      "metadata": {
        "id": "vViJJQlqkwwT",
        "colab_type": "code",
        "outputId": "f50590be-8b18-44f0-a754-090fa8671970",
        "colab": {
          "base_uri": "https://localhost:8080/",
          "height": 370
        }
      },
      "source": [
        "#Calculate correlation between all features\n",
        "corr = MyData[['CommunityPlaces','BikeUsage','HealthIndex','Population Density','StateParks','PublicTransport_W','TWU_Workers','Pop_Poverty','Population','CovidRate','R_Workers','Dense_House']].corr()\n",
        "#Plot the correlation as a matrix\n",
        "sns.heatmap(corr, mask=np.zeros_like(corr, dtype=np.bool), cmap=sns.diverging_palette(220, 10, as_cmap=True), square=True)"
      ],
      "execution_count": 0,
      "outputs": [
        {
          "output_type": "execute_result",
          "data": {
            "text/plain": [
              "<matplotlib.axes._subplots.AxesSubplot at 0x7f6ab2ce50b8>"
            ]
          },
          "metadata": {
            "tags": []
          },
          "execution_count": 10
        },
        {
          "output_type": "display_data",
          "data": {
            "image/png": "[encoded data removed]",
            "text/plain": [
              "<Figure size 432x288 with 2 Axes>"
            ]
          },
          "metadata": {
            "tags": [],
            "needs_background": "light"
          }
        }
      ]
    },
    {
      "cell_type": "markdown",
      "metadata": {
        "id": "RaDG_bjCx9ok",
        "colab_type": "text"
      },
      "source": [
        "# Model Selection"
      ]
    },
    {
      "cell_type": "markdown",
      "metadata": {
        "id": "ObwE2u0M_WNV",
        "colab_type": "text"
      },
      "source": [
        "## Linear models for regression"
      ]
    },
    {
      "cell_type": "code",
      "metadata": {
        "id": "6vbrBQTb-RBa",
        "colab_type": "code",
        "colab": {}
      },
      "source": [
        "#Create final data set by selecting appropriate features for X and Y\n",
        "FinalData = MyData[['CommunityPlaces','BikeUsage','HealthIndex','Population Density','StateParks','PublicTransport_W','TWU_Workers','Pop_Poverty']]\n",
        "Y = MyData['CovidRate']"
      ],
      "execution_count": 0,
      "outputs": []
    },
    {
      "cell_type": "code",
      "metadata": {
        "id": "w4otaUkZA1JJ",
        "colab_type": "code",
        "outputId": "5f83af2d-4476-4f10-8a59-afebafa02745",
        "colab": {
          "base_uri": "https://localhost:8080/",
          "height": 370
        }
      },
      "source": [
        "#Calculate correlation amongst selected features\n",
        "corr = FinalData.corr()\n",
        "#Plot the correlation as heatmap\n",
        "sns.heatmap(corr, mask=np.zeros_like(corr, dtype=np.bool), cmap=sns.diverging_palette(220, 10, as_cmap=True), square=True)"
      ],
      "execution_count": 0,
      "outputs": [
        {
          "output_type": "execute_result",
          "data": {
            "text/plain": [
              "<matplotlib.axes._subplots.AxesSubplot at 0x7f6ab03a7cf8>"
            ]
          },
          "metadata": {
            "tags": []
          },
          "execution_count": 12
        },
        {
          "output_type": "display_data",
          "data": {
            "image/png": "[encoded data removed]",
            "text/plain": [
              "<Figure size 432x288 with 2 Axes>"
            ]
          },
          "metadata": {
            "tags": [],
            "needs_background": "light"
          }
        }
      ]
    },
    {
      "cell_type": "code",
      "metadata": {
        "id": "-Ea1EakSyAMh",
        "colab_type": "code",
        "colab": {}
      },
      "source": [
        "#Split the dataset with a training size of 85%\n",
        "X_train, X_test, Y_train, Y_test = train_test_split(FinalData, Y, train_size=0.85, shuffle=True, random_state=42)"
      ],
      "execution_count": 0,
      "outputs": []
    },
    {
      "cell_type": "markdown",
      "metadata": {
        "id": "4G1yLImWHGhK",
        "colab_type": "text"
      },
      "source": [
        "### Linear Regression"
      ]
    },
    {
      "cell_type": "code",
      "metadata": {
        "id": "37tdGv6f0CQN",
        "colab_type": "code",
        "colab": {}
      },
      "source": [
        "#Fit linear regression model on train and test data\n",
        "lr = LinearRegression(normalize=True).fit(X_train,Y_train)"
      ],
      "execution_count": 0,
      "outputs": []
    },
    {
      "cell_type": "code",
      "metadata": {
        "id": "zHw4m2jw4Uc0",
        "colab_type": "code",
        "outputId": "fdd35f54-b1d6-43eb-d506-30cd9aaf4ce3",
        "colab": {
          "base_uri": "https://localhost:8080/",
          "height": 34
        }
      },
      "source": [
        "#Print prediction scores on train and test data\n",
        "print(f'Train score: {lr.score(X_train,Y_train)}, Test score: {lr.score(X_test,Y_test)}')"
      ],
      "execution_count": 0,
      "outputs": [
        {
          "output_type": "stream",
          "text": [
            "Train score: 0.4452773355822149, Test score: 0.3506333306269592\n"
          ],
          "name": "stdout"
        }
      ]
    },
    {
      "cell_type": "markdown",
      "metadata": {
        "id": "Hj1xFB8GAYAq",
        "colab_type": "text"
      },
      "source": [
        "### Lasso Regression"
      ]
    },
    {
      "cell_type": "code",
      "metadata": {
        "id": "GsPY-YM-_4LT",
        "colab_type": "code",
        "colab": {}
      },
      "source": [
        "#Fit lasso regression model on train and test data\n",
        "lasso1 = Lasso(normalize=True).fit(X_train,Y_train)"
      ],
      "execution_count": 0,
      "outputs": []
    },
    {
      "cell_type": "code",
      "metadata": {
        "id": "pn8Joj4NIw-m",
        "colab_type": "code",
        "outputId": "28a0a005-55f5-41a1-e3b7-03c2872cfd7f",
        "colab": {
          "base_uri": "https://localhost:8080/",
          "height": 34
        }
      },
      "source": [
        "#Print prediction scores on train and test data\n",
        "print(f'Train score: {lasso1.score(X_train,Y_train)}, Test score: {lasso1.score(X_test,Y_test)}')"
      ],
      "execution_count": 0,
      "outputs": [
        {
          "output_type": "stream",
          "text": [
            "Train score: 0.43716711751112625, Test score: 0.360185407920271\n"
          ],
          "name": "stdout"
        }
      ]
    },
    {
      "cell_type": "markdown",
      "metadata": {
        "id": "IMU9pJM1HLz_",
        "colab_type": "text"
      },
      "source": [
        "### Random Forrest Regression"
      ]
    },
    {
      "cell_type": "code",
      "metadata": {
        "id": "6cwCJsv-HOhL",
        "colab_type": "code",
        "colab": {}
      },
      "source": [
        "#Fit random forrest regression model on train and test data\n",
        "regr = RandomForestRegressor(max_depth=2, random_state=0,criterion='mae').fit(X_train,Y_train)"
      ],
      "execution_count": 0,
      "outputs": []
    },
    {
      "cell_type": "code",
      "metadata": {
        "id": "zLoV8vqlJuEy",
        "colab_type": "code",
        "outputId": "c75eb217-1934-4faa-b962-9f5806af3375",
        "colab": {
          "base_uri": "https://localhost:8080/",
          "height": 34
        }
      },
      "source": [
        "#Print prediction scores on train and test data\n",
        "print(f'Train score: {regr.score(X_train,Y_train)}, Test score: {regr.score(X_test,Y_test)}')"
      ],
      "execution_count": 0,
      "outputs": [
        {
          "output_type": "stream",
          "text": [
            "Train score: 0.43745612390452215, Test score: 0.4860077372094595\n"
          ],
          "name": "stdout"
        }
      ]
    },
    {
      "cell_type": "markdown",
      "metadata": {
        "id": "owHmVFjHm36M",
        "colab_type": "text"
      },
      "source": [
        "### AdaBoost Regression"
      ]
    },
    {
      "cell_type": "code",
      "metadata": {
        "id": "kSZ5lbnaKep0",
        "colab_type": "code",
        "outputId": "bd751ee9-548a-4420-a6e0-0798916eda20",
        "colab": {
          "base_uri": "https://localhost:8080/",
          "height": 51
        }
      },
      "source": [
        "#Fit adaboost regression model on train and test data\n",
        "ada = AdaBoostRegressor(random_state=42, learning_rate = 0.1, loss = 'exponential', n_estimators=100)\n",
        "ada.fit(X_train,Y_train)"
      ],
      "execution_count": 0,
      "outputs": [
        {
          "output_type": "execute_result",
          "data": {
            "text/plain": [
              "AdaBoostRegressor(base_estimator=None, learning_rate=0.1, loss='exponential',\n",
              "                  n_estimators=100, random_state=42)"
            ]
          },
          "metadata": {
            "tags": []
          },
          "execution_count": 20
        }
      ]
    },
    {
      "cell_type": "code",
      "metadata": {
        "id": "F3YHSDjancxU",
        "colab_type": "code",
        "outputId": "12efd070-6750-4629-bf94-cbb77b20b820",
        "colab": {
          "base_uri": "https://localhost:8080/",
          "height": 34
        }
      },
      "source": [
        "#Print prediction scores on train and test data\n",
        "print(f'Train score: {ada.score(X_train,Y_train)}, Test score: {ada.score(X_test,Y_test)}')"
      ],
      "execution_count": 0,
      "outputs": [
        {
          "output_type": "stream",
          "text": [
            "Train score: 0.6515056279908936, Test score: 0.47686796323664127\n"
          ],
          "name": "stdout"
        }
      ]
    },
    {
      "cell_type": "markdown",
      "metadata": {
        "id": "cXmbQxEeuw1W",
        "colab_type": "text"
      },
      "source": [
        "## Linear models for classification"
      ]
    },
    {
      "cell_type": "code",
      "metadata": {
        "id": "B9zv0VX7nwkw",
        "colab_type": "code",
        "colab": {}
      },
      "source": [
        "#Create final data set by selecting appropriate features for X and Y\n",
        "FinalData1 = MyData[['CommunityPlaces','BikeUsage','HealthIndex','Population Density','StateParks','PublicTransport_W','TWU_Workers','Pop_Poverty']]\n",
        "Y1 = MyData['CovidRateCat']"
      ],
      "execution_count": 0,
      "outputs": []
    },
    {
      "cell_type": "code",
      "metadata": {
        "id": "m2WHezSGu0mH",
        "colab_type": "code",
        "colab": {}
      },
      "source": [
        "#Split the dataset with a training size of 85%\n",
        "X_train, X_test, Y_train, Y_test = train_test_split(FinalData1, Y1, train_size=0.85, shuffle=True, random_state=42)"
      ],
      "execution_count": 0,
      "outputs": []
    },
    {
      "cell_type": "markdown",
      "metadata": {
        "id": "eOEcJ2z_CM46",
        "colab_type": "text"
      },
      "source": [
        "### Logistic Regression"
      ]
    },
    {
      "cell_type": "code",
      "metadata": {
        "id": "zntGMDLFvJsq",
        "colab_type": "code",
        "outputId": "72a17eae-cbbe-4c8f-fb01-99054035f139",
        "colab": {
          "base_uri": "https://localhost:8080/",
          "height": 153
        }
      },
      "source": [
        "#Fit logistic regression model on train and test data\n",
        "CLR = LogisticRegression().fit(X_train,Y_train)"
      ],
      "execution_count": 0,
      "outputs": [
        {
          "output_type": "stream",
          "text": [
            "/usr/local/lib/python3.6/dist-packages/sklearn/linear_model/_logistic.py:940: ConvergenceWarning: lbfgs failed to converge (status=1):\n",
            "STOP: TOTAL NO. of ITERATIONS REACHED LIMIT.\n",
            "\n",
            "Increase the number of iterations (max_iter) or scale the data as shown in:\n",
            "    https://scikit-learn.org/stable/modules/preprocessing.html\n",
            "Please also refer to the documentation for alternative solver options:\n",
            "    https://scikit-learn.org/stable/modules/linear_model.html#logistic-regression\n",
            "  extra_warning_msg=_LOGISTIC_SOLVER_CONVERGENCE_MSG)\n"
          ],
          "name": "stderr"
        }
      ]
    },
    {
      "cell_type": "code",
      "metadata": {
        "id": "78qDEbNHvKLq",
        "colab_type": "code",
        "outputId": "073b59c3-9977-4ee6-9c7a-f092ce9a6c5e",
        "colab": {
          "base_uri": "https://localhost:8080/",
          "height": 34
        }
      },
      "source": [
        "#Print prediction scores on train and test data\n",
        "print(f'Train score: {CLR.score(X_train,Y_train)}, Test score: {CLR.score(X_test,Y_test)}')"
      ],
      "execution_count": 0,
      "outputs": [
        {
          "output_type": "stream",
          "text": [
            "Train score: 0.6043956043956044, Test score: 0.49382716049382713\n"
          ],
          "name": "stdout"
        }
      ]
    },
    {
      "cell_type": "markdown",
      "metadata": {
        "id": "9IKl5mm_CbcC",
        "colab_type": "text"
      },
      "source": [
        "### LinearSVC Regression"
      ]
    },
    {
      "cell_type": "code",
      "metadata": {
        "id": "5kKvgic9wIav",
        "colab_type": "code",
        "outputId": "e555915d-cd3e-48d2-a660-3877ebf72e5d",
        "colab": {
          "base_uri": "https://localhost:8080/",
          "height": 51
        }
      },
      "source": [
        "#Fit linearSVC classifier model on train and test data\n",
        "CLS = LinearSVC().fit(X_train,Y_train)"
      ],
      "execution_count": 0,
      "outputs": [
        {
          "output_type": "stream",
          "text": [
            "/usr/local/lib/python3.6/dist-packages/sklearn/svm/_base.py:947: ConvergenceWarning: Liblinear failed to converge, increase the number of iterations.\n",
            "  \"the number of iterations.\", ConvergenceWarning)\n"
          ],
          "name": "stderr"
        }
      ]
    },
    {
      "cell_type": "code",
      "metadata": {
        "id": "H3XkG7lKweD-",
        "colab_type": "code",
        "outputId": "8d03d447-8055-4aa5-d47e-7ad2b52531d6",
        "colab": {
          "base_uri": "https://localhost:8080/",
          "height": 34
        }
      },
      "source": [
        "#Print prediction scores on train and test data\n",
        "print(f'Train score: {CLS.score(X_train,Y_train)}, Test score: {CLS.score(X_test,Y_test)}')"
      ],
      "execution_count": 0,
      "outputs": [
        {
          "output_type": "stream",
          "text": [
            "Train score: 0.3274725274725275, Test score: 0.4074074074074074\n"
          ],
          "name": "stdout"
        }
      ]
    },
    {
      "cell_type": "markdown",
      "metadata": {
        "id": "FweNPbY9DMvC",
        "colab_type": "text"
      },
      "source": [
        "### MLP Classifier"
      ]
    },
    {
      "cell_type": "code",
      "metadata": {
        "id": "5Za3_kxswk1x",
        "colab_type": "code",
        "outputId": "e69ca9c7-2f6c-4bfc-b412-1a1df665038e",
        "colab": {
          "base_uri": "https://localhost:8080/",
          "height": 119
        }
      },
      "source": [
        "#Fit MLP classifier model on train and test data\n",
        "mlp = MLPClassifier(solver='lbfgs', random_state=42, hidden_layer_sizes=[100,100], activation='logistic',learning_rate='adaptive',max_iter=500,alpha=0.00001 ).fit(X_train,Y_train)\n"
      ],
      "execution_count": 0,
      "outputs": [
        {
          "output_type": "stream",
          "text": [
            "/usr/local/lib/python3.6/dist-packages/sklearn/neural_network/_multilayer_perceptron.py:470: ConvergenceWarning: lbfgs failed to converge (status=1):\n",
            "STOP: TOTAL NO. of ITERATIONS REACHED LIMIT.\n",
            "\n",
            "Increase the number of iterations (max_iter) or scale the data as shown in:\n",
            "    https://scikit-learn.org/stable/modules/preprocessing.html\n",
            "  self.n_iter_ = _check_optimize_result(\"lbfgs\", opt_res, self.max_iter)\n"
          ],
          "name": "stderr"
        }
      ]
    },
    {
      "cell_type": "code",
      "metadata": {
        "id": "PAn9Xc6DDW9X",
        "colab_type": "code",
        "outputId": "66fc2c85-f98f-45c9-e3c1-e8cdbf7f403d",
        "colab": {
          "base_uri": "https://localhost:8080/",
          "height": 34
        }
      },
      "source": [
        "#Print prediction scores on train and test data\n",
        "print(f'Train score: {mlp.score(X_train,Y_train)}, Test score: {mlp.score(X_test,Y_test)}')"
      ],
      "execution_count": 0,
      "outputs": [
        {
          "output_type": "stream",
          "text": [
            "Train score: 0.6153846153846154, Test score: 0.49382716049382713\n"
          ],
          "name": "stdout"
        }
      ]
    },
    {
      "cell_type": "markdown",
      "metadata": {
        "id": "cAY_iqK6Dds-",
        "colab_type": "text"
      },
      "source": [
        "### AdaBoost Classifier"
      ]
    },
    {
      "cell_type": "code",
      "metadata": {
        "id": "Y_RdOdAlyNGw",
        "colab_type": "code",
        "outputId": "a2a73cbe-0b1e-4188-eebd-91d128ae12b0",
        "colab": {
          "base_uri": "https://localhost:8080/",
          "height": 51
        }
      },
      "source": [
        "#Fit ADABoost classifier model on train and test data\n",
        "CAda = AdaBoostClassifier(n_estimators=500, random_state=42, learning_rate=0.1)\n",
        "CAda.fit(X_train,Y_train)"
      ],
      "execution_count": 0,
      "outputs": [
        {
          "output_type": "execute_result",
          "data": {
            "text/plain": [
              "AdaBoostClassifier(algorithm='SAMME.R', base_estimator=None, learning_rate=0.1,\n",
              "                   n_estimators=500, random_state=42)"
            ]
          },
          "metadata": {
            "tags": []
          },
          "execution_count": 30
        }
      ]
    },
    {
      "cell_type": "code",
      "metadata": {
        "id": "6D060Npb1IpV",
        "colab_type": "code",
        "outputId": "3f961546-a16a-4b47-8a51-f657cdec7e25",
        "colab": {
          "base_uri": "https://localhost:8080/",
          "height": 34
        }
      },
      "source": [
        "#Print prediction scores on train and test data\n",
        "print(f'Train score: {CAda.score(X_train,Y_train)}, Test score: {CAda.score(X_test,Y_test)}')"
      ],
      "execution_count": 0,
      "outputs": [
        {
          "output_type": "stream",
          "text": [
            "Train score: 0.6967032967032967, Test score: 0.6172839506172839\n"
          ],
          "name": "stdout"
        }
      ]
    },
    {
      "cell_type": "markdown",
      "metadata": {
        "id": "AAkyW0bv7ygX",
        "colab_type": "text"
      },
      "source": [
        "## City Level Model"
      ]
    },
    {
      "cell_type": "code",
      "metadata": {
        "id": "Y4CXvmEKEEf3",
        "colab_type": "code",
        "colab": {}
      },
      "source": [
        "#Sum and group the data by Cities\n",
        "MyData1 = MyData.groupby([\"City\"]).sum()\n",
        "#Create final data set by selecting appropriate features for X and Y\n",
        "FinalData2 = MyData1[['CommunityPlaces','BikeUsage','HealthIndex','Population Density','StateParks','PublicTransport_W','TWU_Workers','Pop_Poverty']]\n",
        "Y2 = MyData1['CovidRate']\n",
        "#Split the dataset with a training size of 85%\n",
        "X_train2, X_test2, Y_train2, Y_test2 = train_test_split(FinalData2, Y2, train_size=0.85)"
      ],
      "execution_count": 0,
      "outputs": []
    },
    {
      "cell_type": "markdown",
      "metadata": {
        "id": "jSoEuNm5MA6P",
        "colab_type": "text"
      },
      "source": [
        "### Linear Regression"
      ]
    },
    {
      "cell_type": "code",
      "metadata": {
        "id": "1c1S9W4g1J7P",
        "colab_type": "code",
        "outputId": "437ac775-44a4-4fe3-f450-68579918e33e",
        "colab": {
          "base_uri": "https://localhost:8080/",
          "height": 34
        }
      },
      "source": [
        "#Fit linear regression model on train and test data\n",
        "linear_regression = LinearRegression()\n",
        "CLR = linear_regression.fit(X_train2, Y_train2)\n",
        "#Print prediction scores on train and test data\n",
        "CLR.score(X_train2,Y_train2),CLR.score(X_test2,Y_test2)"
      ],
      "execution_count": 0,
      "outputs": [
        {
          "output_type": "execute_result",
          "data": {
            "text/plain": [
              "(0.9387303846678534, 0.724262501930499)"
            ]
          },
          "metadata": {
            "tags": []
          },
          "execution_count": 33
        }
      ]
    },
    {
      "cell_type": "markdown",
      "metadata": {
        "id": "mRs3Z6NNMF-G",
        "colab_type": "text"
      },
      "source": [
        "### Random Forest Regression"
      ]
    },
    {
      "cell_type": "code",
      "metadata": {
        "id": "9FolMkCv8NdY",
        "colab_type": "code",
        "outputId": "f768f29a-38ce-409d-8b80-f3f7dd878a0d",
        "colab": {
          "base_uri": "https://localhost:8080/",
          "height": 34
        }
      },
      "source": [
        "#Fit random forest regression model on train and test data\n",
        "random_forests = RandomForestRegressor()\n",
        "CRF = random_forests.fit(X_train2, Y_train2)\n",
        "#Print prediction scores on train and test data\n",
        "CRF.score(X_train2,Y_train2),CRF.score(X_test2,Y_test2)\n"
      ],
      "execution_count": 0,
      "outputs": [
        {
          "output_type": "execute_result",
          "data": {
            "text/plain": [
              "(0.9319090616834022, 0.7601632807991617)"
            ]
          },
          "metadata": {
            "tags": []
          },
          "execution_count": 34
        }
      ]
    },
    {
      "cell_type": "markdown",
      "metadata": {
        "id": "4ZLG8ltCMM0t",
        "colab_type": "text"
      },
      "source": [
        "### AdaBoost Regression"
      ]
    },
    {
      "cell_type": "code",
      "metadata": {
        "id": "gwYZVF5yL0b2",
        "colab_type": "code",
        "outputId": "9fcb2dd1-f275-4312-dc0e-e8c034bd3c47",
        "colab": {
          "base_uri": "https://localhost:8080/",
          "height": 34
        }
      },
      "source": [
        "#Fit AdaBoost regression model on train and test data\n",
        "ada = AdaBoostRegressor()\n",
        "CADA = ada.fit(X_train2, Y_train2)\n",
        "#Print prediction scores on train and test data\n",
        "CADA.score(X_train2,Y_train2),CADA.score(X_test2,Y_test2)"
      ],
      "execution_count": 0,
      "outputs": [
        {
          "output_type": "execute_result",
          "data": {
            "text/plain": [
              "(0.9357654824297695, 0.6712342857887723)"
            ]
          },
          "metadata": {
            "tags": []
          },
          "execution_count": 35
        }
      ]
    },
    {
      "cell_type": "code",
      "metadata": {
        "id": "jLI3gNB58OsH",
        "colab_type": "code",
        "outputId": "57e6b74d-c467-4a1d-c803-828b9ef4a589",
        "colab": {
          "base_uri": "https://localhost:8080/",
          "height": 34
        }
      },
      "source": [
        "preds = ada.predict(X_test2)\n",
        "r2_score(Y_test2, preds)"
      ],
      "execution_count": 0,
      "outputs": [
        {
          "output_type": "execute_result",
          "data": {
            "text/plain": [
              "0.6712342857887723"
            ]
          },
          "metadata": {
            "tags": []
          },
          "execution_count": 36
        }
      ]
    },
    {
      "cell_type": "markdown",
      "metadata": {
        "id": "HeoKFHpCMsZY",
        "colab_type": "text"
      },
      "source": [
        "### AdaBoost Classification"
      ]
    },
    {
      "cell_type": "code",
      "metadata": {
        "id": "txeYCO18MwUg",
        "colab_type": "code",
        "colab": {}
      },
      "source": [
        "#Define bins for categorization in equal bins\n",
        "bins2 = np.percentile(MyData1['CovidRate'],q=[0,33,66,100])\n",
        "#Define labels for bins\n",
        "labels2 = [1,2,3]\n",
        "#Create variable that stores the categories\n",
        "MyData1['CovidRateCat'] = pd.cut(MyData1['CovidRate'],bins=bins2,labels=labels2,include_lowest=True)"
      ],
      "execution_count": 0,
      "outputs": []
    },
    {
      "cell_type": "code",
      "metadata": {
        "id": "aeEvCyDu8PNh",
        "colab_type": "code",
        "colab": {}
      },
      "source": [
        "#Create final data set by selecting appropriate features for X and Y\n",
        "FinalData2 = MyData1[['CommunityPlaces','BikeUsage','HealthIndex','Population Density','StateParks','PublicTransport_W','TWU_Workers','Pop_Poverty']]\n",
        "Y2 = MyData1['CovidRateCat']\n",
        "#Split the dataset with a training size of 85%\n",
        "X_train3, X_test3, Y_train3, Y_test3 = train_test_split(FinalData2, Y2, train_size=0.85)"
      ],
      "execution_count": 0,
      "outputs": []
    },
    {
      "cell_type": "code",
      "metadata": {
        "id": "27SRCQS3NQS0",
        "colab_type": "code",
        "outputId": "0baae155-2b8e-4fe6-8799-721c4a59c6c5",
        "colab": {
          "base_uri": "https://localhost:8080/",
          "height": 34
        }
      },
      "source": [
        "#Fit AdaBoost regression model on train and test data\n",
        "CADA1 = AdaBoostClassifier(n_estimators=500, random_state=42, learning_rate=0.1)\n",
        "CADA1.fit(X_train3,Y_train3)\n",
        "#Print prediction scores on train and test data\n",
        "CADA1.score(X_train3,Y_train3),CADA1.score(X_test3,Y_test3)"
      ],
      "execution_count": 0,
      "outputs": [
        {
          "output_type": "execute_result",
          "data": {
            "text/plain": [
              "(0.7774566473988439, 0.5645161290322581)"
            ]
          },
          "metadata": {
            "tags": []
          },
          "execution_count": 39
        }
      ]
    }
  ]
}